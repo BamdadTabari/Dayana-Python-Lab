{
 "cells": [
  {
   "cell_type": "markdown",
   "id": "a24e5bad",
   "metadata": {},
   "source": [
    "# Python QR Code encoder/decoder\n",
    "\n",
    "In this code, we create a QR code for a URL link and then decode that. We also perform a little experiment on the error correction parameter of a QR code. \n",
    "We use the *qrcode* module for encoding a QR code and *pyzbar* for decoding it. *IPython.display* and *PIL* libraries were also used for handling QR code images.\n",
    "\n",
    " First, we create an empty (without data) QR code using the QRCode method. here, we set the error correction parameter to the \"qrcode.constants.ERROR_CORRECT_L\" (the last L stands for Low), which means in case of a data loss, only 7% of the data stored in the QR code can be restored. other parameters are related to storage capacity, size, and border.\n",
    "Then we add data (the link) to the QR code.\n"
   ]
  },
  {
   "cell_type": "code",
   "execution_count": 62,
   "id": "16577b52",
   "metadata": {},
   "outputs": [],
   "source": [
    "import qrcode\n",
    "from IPython.display import display\n",
    "from PIL import Image\n",
    "from pyzbar.pyzbar import decode\n",
    "link='https://t.me/Dayana_Docs'\n",
    "qr=qrcode.QRCode(version=1,\n",
    "    error_correction=qrcode.constants.ERROR_CORRECT_L,\n",
    "    box_size=10,\n",
    "    border=1,)\n",
    "qr.add_data(link)\n",
    "img=qr.make_image()\n",
    "img.save('Dayana_Docs.png')"
   ]
  },
  {
   "cell_type": "markdown",
   "id": "fa2c6e01",
   "metadata": {},
   "source": [
    "Here we display it:"
   ]
  },
  {
   "cell_type": "code",
   "execution_count": 63,
   "id": "0e113c35",
   "metadata": {},
   "outputs": [
    {
     "data": {
      "image/png": "[encoded data removed]",
      "text/plain": [
       "<PIL.PngImagePlugin.PngImageFile image mode=1 size=270x270 at 0x1D4B8F09E08>"
      ]
     },
     "metadata": {},
     "output_type": "display_data"
    }
   ],
   "source": [
    "qr1=Image.open('Dayana_Docs.png')\n",
    "display(qr1)"
   ]
  },
  {
   "cell_type": "markdown",
   "id": "34cb37ad",
   "metadata": {},
   "source": [
    "And now we decode the image using the *decode* function from pyzbar. then, the data stored in the QR code is printed properly. which is the same as the link we stored in the QR code."
   ]
  },
  {
   "cell_type": "code",
   "execution_count": 65,
   "id": "551fa076",
   "metadata": {},
   "outputs": [
    {
     "name": "stdout",
     "output_type": "stream",
     "text": [
      "https://t.me/Dayana_Docs\n"
     ]
    }
   ],
   "source": [
    "data = decode(qr1)\n",
    "#data is a list containing one tuple, the first element of which has the stored data as bytes\n",
    "#so we use str() function to convert that to strings\n",
    "print(str(data[0][0],\"utf-8\"))"
   ]
  },
  {
   "cell_type": "markdown",
   "id": "87390303",
   "metadata": {},
   "source": [
    "Now we simulate a data loss by manually adding the Dayana logo to the center of the QR code. Here is the modified image:"
   ]
  },
  {
   "cell_type": "code",
   "execution_count": 66,
   "id": "05a08a41",
   "metadata": {
    "scrolled": true
   },
   "outputs": [
    {
     "data": {
      "image/png": "[encoded data removed]",
      "text/plain": [
       "<PIL.PngImagePlugin.PngImageFile image mode=RGBA size=270x270 at 0x1D4B9C33448>"
      ]
     },
     "metadata": {},
     "output_type": "display_data"
    }
   ],
   "source": [
    "qr12=Image.open('Dayana_Docs-edited.png')\n",
    "display(qr12)"
   ]
  },
  {
   "cell_type": "markdown",
   "id": "e31cd9d4",
   "metadata": {},
   "source": [
    "Now we try to decode this one, which is unsuccessful."
   ]
  },
  {
   "cell_type": "code",
   "execution_count": 67,
   "id": "166a2981",
   "metadata": {},
   "outputs": [
    {
     "name": "stdout",
     "output_type": "stream",
     "text": [
      "not decoded\n"
     ]
    }
   ],
   "source": [
    "data = decode(qr12)\n",
    "if len(data)!=0:\n",
    "    print(str(data[0][0],\"utf-8\"))\n",
    "else:\n",
    "    print(\"not decoded\")"
   ]
  },
  {
   "cell_type": "markdown",
   "id": "25bbaa92",
   "metadata": {},
   "source": [
    "So, we set a higher error correction value. The \"ERROR_CORRECT_H\" means that up to 30% of lost data can be restored."
   ]
  },
  {
   "cell_type": "code",
   "execution_count": 68,
   "id": "1df6579f",
   "metadata": {},
   "outputs": [
    {
     "data": {
      "image/png": "[encoded data removed]",
      "text/plain": [
       "<PIL.PngImagePlugin.PngImageFile image mode=1 size=310x310 at 0x1D4B9C34F88>"
      ]
     },
     "metadata": {},
     "output_type": "display_data"
    }
   ],
   "source": [
    "qr=qrcode.QRCode(version=1,\n",
    "    error_correction=qrcode.constants.ERROR_CORRECT_H,\n",
    "    box_size=10,\n",
    "    border=1,)\n",
    "qr.add_data(link)\n",
    "img=qr.make_image()\n",
    "img.save('Dayana_Docs-2.png')\n",
    "qr2=Image.open('Dayana_Docs-2.png')\n",
    "display(qr2)"
   ]
  },
  {
   "cell_type": "markdown",
   "id": "8de48d63",
   "metadata": {},
   "source": [
    "Again, we modify the code manually with the same logo."
   ]
  },
  {
   "cell_type": "code",
   "execution_count": 71,
   "id": "4a0c7bcf",
   "metadata": {},
   "outputs": [
    {
     "data": {
      "image/png": "[encoded data removed]",
      "text/plain": [
       "<PIL.PngImagePlugin.PngImageFile image mode=RGBA size=310x310 at 0x1D4B9C42248>"
      ]
     },
     "metadata": {},
     "output_type": "display_data"
    }
   ],
   "source": [
    "qr22=Image.open('Dayana_Docs-2-edited.png')\n",
    "display(qr22)"
   ]
  },
  {
   "cell_type": "markdown",
   "id": "346f4925",
   "metadata": {},
   "source": [
    "Decoding the new image shows that increasing the error correction parameter works."
   ]
  },
  {
   "cell_type": "code",
   "execution_count": 72,
   "id": "033b9abe",
   "metadata": {},
   "outputs": [
    {
     "name": "stdout",
     "output_type": "stream",
     "text": [
      "https://t.me/Dayana_Docs\n"
     ]
    }
   ],
   "source": [
    "data = decode(qr22)\n",
    "if len(data)!=0:\n",
    "    print(str(data[0][0],\"utf-8\"))\n",
    "else:\n",
    "    print(\"not decoded\")"
   ]
  }
 ],
 "metadata": {
  "kernelspec": {
   "display_name": "Python 3",
   "language": "python",
   "name": "python3"
  },
  "language_info": {
   "codemirror_mode": {
    "name": "ipython",
    "version": 3
   },
   "file_extension": ".py",
   "mimetype": "text/x-python",
   "name": "python",
   "nbconvert_exporter": "python",
   "pygments_lexer": "ipython3",
   "version": "3.7.9"
  }
 },
 "nbformat": 4,
 "nbformat_minor": 5
}
